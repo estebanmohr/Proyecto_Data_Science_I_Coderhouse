{
  "nbformat": 4,
  "nbformat_minor": 0,
  "metadata": {
    "colab": {
      "provenance": []
    },
    "kernelspec": {
      "name": "python3",
      "display_name": "Python 3"
    },
    "language_info": {
      "name": "python"
    }
  },
  "cells": [
    {
      "cell_type": "markdown",
      "source": [
        "# Posibles Dataset"
      ],
      "metadata": {
        "id": "L8sUJysioLH0"
      }
    },
    {
      "cell_type": "markdown",
      "source": [
        "## Dataset 1: Propiedades en Estados Unidos"
      ],
      "metadata": {
        "id": "Zm8W2YgboPnQ"
      }
    },
    {
      "cell_type": "markdown",
      "source": [
        "Este dataset de 21.613 filas y 23 columnas contiene datos de propiedades en estados unidos. Contiene información sobre los precios de las propiedades y sus características, tales como tamaño, número de habitaciones y baños, año construido, condición, entre otros.\n",
        "\n",
        "Con estos datos se podría realizar un modelo estimador de precios de propiedades (problema de regresión)."
      ],
      "metadata": {
        "id": "uQnXnlW_p8Z_"
      }
    },
    {
      "cell_type": "code",
      "execution_count": 24,
      "metadata": {
        "colab": {
          "base_uri": "https://localhost:8080/"
        },
        "id": "GLH2rLAGn5dM",
        "outputId": "66dba416-909d-4c24-c13c-d7a5f1b8d910"
      },
      "outputs": [
        {
          "output_type": "stream",
          "name": "stdout",
          "text": [
            "           id             date     price  bedrooms  bathrooms  sqft_living  \\\n",
            "0  7229300521  20141013T000000  231300.0         2       1.00         1180   \n",
            "1  6414100192  20141209T000000  538000.0         3       2.25         2570   \n",
            "2  5631500400  20150225T000000  180000.0         2       1.00          770   \n",
            "3  2487200875  20141209T000000  604000.0         4       3.00         1960   \n",
            "4  1954400510  20150218T000000  510000.0         3       2.00         1680   \n",
            "\n",
            "   sqft_lot  floors  waterfront  view  ...  grade  sqft_above  sqft_basement  \\\n",
            "0      5650     1.0           0     0  ...      7        1180              0   \n",
            "1      7242     2.0           0     0  ...      7        2170            400   \n",
            "2     10000     1.0           0     0  ...      6         770              0   \n",
            "3      5000     1.0           0     0  ...      7        1050            910   \n",
            "4      8080     1.0           0     0  ...      8        1680              0   \n",
            "\n",
            "   yr_built  yr_renovated  zipcode      lat     long  sqft_living15  \\\n",
            "0      1955             0    98178  47.5112 -122.257           1340   \n",
            "1      1951          1991    98125  47.7210 -122.319           1690   \n",
            "2      1933             0    98028  47.7379 -122.233           2720   \n",
            "3      1965             0    98136  47.5208 -122.393           1360   \n",
            "4      1987             0    98074  47.6168 -122.045           1800   \n",
            "\n",
            "   sqft_lot15  \n",
            "0        5650  \n",
            "1        7639  \n",
            "2        8062  \n",
            "3        5000  \n",
            "4        7503  \n",
            "\n",
            "[5 rows x 21 columns]\n"
          ]
        }
      ],
      "source": [
        "import pandas as pd\n",
        "\n",
        "# Cargar el dataset desde un archivo CSV\n",
        "df = pd.read_csv('Housing dataset.csv', delimiter = ';')\n",
        "\n",
        "# Imprimir las primeras 5 filas del dataset\n",
        "print(df.head())\n"
      ]
    },
    {
      "cell_type": "code",
      "source": [
        "# Mostrar información sobre el dataset\n",
        "df.info()"
      ],
      "metadata": {
        "colab": {
          "base_uri": "https://localhost:8080/"
        },
        "id": "I6RTJYOPo55w",
        "outputId": "01b53929-9421-4f5b-8e78-56c07194be2f"
      },
      "execution_count": 22,
      "outputs": [
        {
          "output_type": "stream",
          "name": "stdout",
          "text": [
            "<class 'pandas.core.frame.DataFrame'>\n",
            "RangeIndex: 21613 entries, 0 to 21612\n",
            "Data columns (total 21 columns):\n",
            " #   Column         Non-Null Count  Dtype  \n",
            "---  ------         --------------  -----  \n",
            " 0   id             21613 non-null  int64  \n",
            " 1   date           21613 non-null  object \n",
            " 2   price          21613 non-null  float64\n",
            " 3   bedrooms       21613 non-null  int64  \n",
            " 4   bathrooms      21613 non-null  float64\n",
            " 5   sqft_living    21613 non-null  int64  \n",
            " 6   sqft_lot       21613 non-null  int64  \n",
            " 7   floors         21613 non-null  float64\n",
            " 8   waterfront     21613 non-null  int64  \n",
            " 9   view           21613 non-null  int64  \n",
            " 10  condition      21613 non-null  int64  \n",
            " 11  grade          21613 non-null  int64  \n",
            " 12  sqft_above     21613 non-null  int64  \n",
            " 13  sqft_basement  21613 non-null  int64  \n",
            " 14  yr_built       21613 non-null  int64  \n",
            " 15  yr_renovated   21613 non-null  int64  \n",
            " 16  zipcode        21613 non-null  int64  \n",
            " 17  lat            21613 non-null  float64\n",
            " 18  long           21613 non-null  float64\n",
            " 19  sqft_living15  21613 non-null  int64  \n",
            " 20  sqft_lot15     21613 non-null  int64  \n",
            "dtypes: float64(5), int64(15), object(1)\n",
            "memory usage: 3.5+ MB\n"
          ]
        }
      ]
    },
    {
      "cell_type": "markdown",
      "source": [
        "## Dataset 2: Admisibilidad de tarjeta de crédito"
      ],
      "metadata": {
        "id": "k1oSST43oVW1"
      }
    },
    {
      "cell_type": "markdown",
      "source": [
        "Este dataset de 9.709 filas y 20 columnas contiene datos sobre potenciales clientes de un banco y si estos son elegibles para optar por una tarjeta de crédito. Contiene datos como ingresos, edad, tipo de educación, situación familiar, situación laboral, etc.\n",
        "\n",
        "Con estos datos se podría realizar un modelo clasificador de admisibilidad de potenciales clientes del banco(problema de clasificación binaria)."
      ],
      "metadata": {
        "id": "cOqUGqsDrq9t"
      }
    },
    {
      "cell_type": "code",
      "source": [
        "import pandas as pd\n",
        "\n",
        "# Cargar el dataset desde un archivo CSV\n",
        "df = pd.read_csv('Credit Eligibility dataset.csv', delimiter = ';')\n",
        "\n",
        "# Imprimir las primeras 5 filas del dataset\n",
        "print(df.head())"
      ],
      "metadata": {
        "colab": {
          "base_uri": "https://localhost:8080/"
        },
        "id": "ZE1aWSjMobaG",
        "outputId": "4d786f37-913d-448e-b4cd-46ae50639e40"
      },
      "execution_count": 25,
      "outputs": [
        {
          "output_type": "stream",
          "name": "stdout",
          "text": [
            "        ID  Gender  Own_car  Own_property  Work_phone  Phone  Email  \\\n",
            "0  5008804       1        1             1           1      0      0   \n",
            "1  5008806       1        1             1           0      0      0   \n",
            "2  5008808       0        0             1           0      1      1   \n",
            "3  5008812       0        0             1           0      0      0   \n",
            "4  5008815       1        1             1           1      1      1   \n",
            "\n",
            "   Unemployed  Num_children  Num_family  Account_length  Total_income  \\\n",
            "0           0             0           2              15      427500.0   \n",
            "1           0             0           2              29      112500.0   \n",
            "2           0             0           1               4      270000.0   \n",
            "3           1             0           1              20      283500.0   \n",
            "4           0             0           2               5      270000.0   \n",
            "\n",
            "                      Age          Years_employed           Income_type  \\\n",
            "0   3.286.857.361.889.700  12.435.573.625.741.800               Working   \n",
            "1   5.879.381.506.807.120  31.047.865.459.249.600               Working   \n",
            "2   5.232.140.290.355.030   8.353.354.278.321.930  Commercial associate   \n",
            "3  61.504.343.004.989.800                     0.0             Pensioner   \n",
            "4     461.939.670.219.101  21.054.504.883.741.600               Working   \n",
            "\n",
            "                  Education_type         Family_status       Housing_type  \\\n",
            "0               Higher education        Civil marriage   Rented apartment   \n",
            "1  Secondary / secondary special               Married  House / apartment   \n",
            "2  Secondary / secondary special  Single / not married  House / apartment   \n",
            "3               Higher education             Separated  House / apartment   \n",
            "4               Higher education               Married  House / apartment   \n",
            "\n",
            "  Occupation_type  Target  \n",
            "0           Other       1  \n",
            "1  Security staff       0  \n",
            "2     Sales staff       0  \n",
            "3           Other       0  \n",
            "4     Accountants       0  \n"
          ]
        }
      ]
    },
    {
      "cell_type": "code",
      "source": [
        "# Mostrar información sobre el dataset\n",
        "df.info()"
      ],
      "metadata": {
        "colab": {
          "base_uri": "https://localhost:8080/"
        },
        "id": "Hr0P5otApgtF",
        "outputId": "3c71e663-180c-4adc-e188-7d73a0de83d0"
      },
      "execution_count": 26,
      "outputs": [
        {
          "output_type": "stream",
          "name": "stdout",
          "text": [
            "<class 'pandas.core.frame.DataFrame'>\n",
            "RangeIndex: 9709 entries, 0 to 9708\n",
            "Data columns (total 20 columns):\n",
            " #   Column           Non-Null Count  Dtype  \n",
            "---  ------           --------------  -----  \n",
            " 0   ID               9709 non-null   int64  \n",
            " 1   Gender           9709 non-null   int64  \n",
            " 2   Own_car          9709 non-null   int64  \n",
            " 3   Own_property     9709 non-null   int64  \n",
            " 4   Work_phone       9709 non-null   int64  \n",
            " 5   Phone            9709 non-null   int64  \n",
            " 6   Email            9709 non-null   int64  \n",
            " 7   Unemployed       9709 non-null   int64  \n",
            " 8   Num_children     9709 non-null   int64  \n",
            " 9   Num_family       9709 non-null   int64  \n",
            " 10  Account_length   9709 non-null   int64  \n",
            " 11  Total_income     9709 non-null   float64\n",
            " 12  Age              9709 non-null   object \n",
            " 13  Years_employed   9709 non-null   object \n",
            " 14  Income_type      9709 non-null   object \n",
            " 15  Education_type   9709 non-null   object \n",
            " 16  Family_status    9709 non-null   object \n",
            " 17  Housing_type     9709 non-null   object \n",
            " 18  Occupation_type  9709 non-null   object \n",
            " 19  Target           9709 non-null   int64  \n",
            "dtypes: float64(1), int64(12), object(7)\n",
            "memory usage: 1.5+ MB\n"
          ]
        }
      ]
    },
    {
      "cell_type": "markdown",
      "source": [
        "## Dataset 3: Factores que influyen en notas de estudiantes"
      ],
      "metadata": {
        "id": "-IYdCzCgoWsV"
      }
    },
    {
      "cell_type": "markdown",
      "source": [
        "Este dataset de 10.074 filas y 35 columnas contiene datos de los factores que influyen en las notas de los estudiantes universitarios,tales como tiempo de estudio, asistencia, participación, nivel de interés y participación, edad, entre otros.\n",
        "\n",
        "Con estos datos se podría realizar un modelo predictor de notas de estudiantes (problema de clasificación de tres clases (nota A, B o C))."
      ],
      "metadata": {
        "id": "xajud40ystmf"
      }
    },
    {
      "cell_type": "code",
      "source": [
        "import pandas as pd\n",
        "\n",
        "# Cargar el dataset desde un archivo CSV\n",
        "df = pd.read_csv('Factors_ affecting_ university_student_grades_dataset.csv', delimiter = ';')\n",
        "\n",
        "# Imprimir las primeras 5 filas del dataset\n",
        "print(df.head())"
      ],
      "metadata": {
        "id": "VIa6LuRBocAE",
        "colab": {
          "base_uri": "https://localhost:8080/"
        },
        "outputId": "48de8fbc-1afd-4913-8075-fa4e5a632385"
      },
      "execution_count": 30,
      "outputs": [
        {
          "output_type": "stream",
          "name": "stdout",
          "text": [
            "    Age Gender Parental_Education Family_Income Previous_Grades  Attendance  \\\n",
            "0  22.0      F            College         50000               A        81.0   \n",
            "1  21.0      M                NaN         60000               A         NaN   \n",
            "2  19.0      M            College         75000               C        93.0   \n",
            "3  21.0      M            College         60000               A        86.0   \n",
            "4  19.0    NaN                NaN         40000             NaN        89.0   \n",
            "\n",
            "  Class_Participation  Study_Hours     Major School_Type  ... Peer_Group  \\\n",
            "0              Medium          8.0       Law     Private  ...    Neutral   \n",
            "1              Medium         12.0       Law      Public  ...   Negative   \n",
            "2              Medium         12.0       Law     Private  ...    Neutral   \n",
            "3                 Low         15.0  Business      Public  ...    Neutral   \n",
            "4                High         15.0  Medicine         NaN  ...   Positive   \n",
            "\n",
            "  Bullying Study_Space Learning_Style Tutoring Mentoring Lack_of_Interest  \\\n",
            "0      NaN          No         Visual      Yes       NaN              Low   \n",
            "1       No          No       Auditory      Yes       Yes           Medium   \n",
            "2       No         Yes            NaN       No        No              Low   \n",
            "3       No         NaN       Auditory      Yes       Yes              Low   \n",
            "4       No          No       Auditory      Yes       NaN           Medium   \n",
            "\n",
            "  Time_Wasted_on_Social_Media  Sports_Participation Grades  \n",
            "0                         2.0                   NaN      B  \n",
            "1                         5.0                  High    NaN  \n",
            "2                         2.0                  High      A  \n",
            "3                         3.0                Medium      C  \n",
            "4                         3.0                  High      B  \n",
            "\n",
            "[5 rows x 35 columns]\n"
          ]
        }
      ]
    },
    {
      "cell_type": "code",
      "source": [
        "df.info()"
      ],
      "metadata": {
        "colab": {
          "base_uri": "https://localhost:8080/"
        },
        "id": "gZ8UQpQz0Am3",
        "outputId": "059c687e-9885-458a-e1a3-85868b038c16"
      },
      "execution_count": 29,
      "outputs": [
        {
          "output_type": "stream",
          "name": "stdout",
          "text": [
            "<class 'pandas.core.frame.DataFrame'>\n",
            "RangeIndex: 10064 entries, 0 to 10063\n",
            "Data columns (total 35 columns):\n",
            " #   Column                       Non-Null Count  Dtype  \n",
            "---  ------                       --------------  -----  \n",
            " 0   Age                          9099 non-null   float64\n",
            " 1   Gender                       9085 non-null   object \n",
            " 2   Parental_Education           9102 non-null   object \n",
            " 3   Family_Income                9097 non-null   object \n",
            " 4   Previous_Grades              9120 non-null   object \n",
            " 5   Attendance                   9060 non-null   float64\n",
            " 6   Class_Participation          9098 non-null   object \n",
            " 7   Study_Hours                  9073 non-null   float64\n",
            " 8   Major                        9136 non-null   object \n",
            " 9   School_Type                  9115 non-null   object \n",
            " 10  Financial_Status             9129 non-null   object \n",
            " 11  Parental_Involvement         9118 non-null   object \n",
            " 12  Educational_Resources        9129 non-null   object \n",
            " 13  Motivation                   9094 non-null   object \n",
            " 14  Self_Esteem                  9152 non-null   object \n",
            " 15  Stress_Levels                9145 non-null   object \n",
            " 16  School_Environment           9106 non-null   object \n",
            " 17  Professor_Quality            9114 non-null   object \n",
            " 18  Class_Size                   9114 non-null   float64\n",
            " 19  Extracurricular_Activities   9159 non-null   object \n",
            " 20  Sleep_Patterns               9048 non-null   float64\n",
            " 21  Nutrition                    9087 non-null   object \n",
            " 22  Physical_Activity            9090 non-null   object \n",
            " 23  Screen_Time                  9120 non-null   float64\n",
            " 24  Educational_Tech_Use         9071 non-null   object \n",
            " 25  Peer_Group                   9145 non-null   object \n",
            " 26  Bullying                     9089 non-null   object \n",
            " 27  Study_Space                  9057 non-null   object \n",
            " 28  Learning_Style               9080 non-null   object \n",
            " 29  Tutoring                     9133 non-null   object \n",
            " 30  Mentoring                    9118 non-null   object \n",
            " 31  Lack_of_Interest             9136 non-null   object \n",
            " 32  Time_Wasted_on_Social_Media  9137 non-null   float64\n",
            " 33  Sports_Participation         9108 non-null   object \n",
            " 34  Grades                       9024 non-null   object \n",
            "dtypes: float64(7), object(28)\n",
            "memory usage: 2.7+ MB\n"
          ]
        }
      ]
    }
  ]
}